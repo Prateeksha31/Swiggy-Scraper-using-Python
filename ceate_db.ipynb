{
 "cells": [
  {
   "cell_type": "code",
   "execution_count": 1,
   "id": "773e41b8",
   "metadata": {},
   "outputs": [
    {
     "name": "stdout",
     "output_type": "stream",
     "text": [
      "2021-12-19 18:16:24,057 INFO sqlalchemy.engine.Engine BEGIN (implicit)\n",
      "2021-12-19 18:16:24,057 INFO sqlalchemy.engine.Engine PRAGMA main.table_info(\"Links\")\n",
      "2021-12-19 18:16:24,057 INFO sqlalchemy.engine.Engine [raw sql] ()\n",
      "2021-12-19 18:16:24,072 INFO sqlalchemy.engine.Engine PRAGMA main.table_info(\"Hotels\")\n",
      "2021-12-19 18:16:24,074 INFO sqlalchemy.engine.Engine [raw sql] ()\n",
      "2021-12-19 18:16:24,079 INFO sqlalchemy.engine.Engine PRAGMA main.table_info(\"Menu\")\n",
      "2021-12-19 18:16:24,084 INFO sqlalchemy.engine.Engine [raw sql] ()\n",
      "2021-12-19 18:16:24,091 INFO sqlalchemy.engine.Engine PRAGMA main.table_info(\"Foods\")\n",
      "2021-12-19 18:16:24,094 INFO sqlalchemy.engine.Engine [raw sql] ()\n",
      "2021-12-19 18:16:24,099 INFO sqlalchemy.engine.Engine PRAGMA temp.table_info(\"Foods\")\n",
      "2021-12-19 18:16:24,101 INFO sqlalchemy.engine.Engine [raw sql] ()\n",
      "2021-12-19 18:16:24,107 INFO sqlalchemy.engine.Engine \n",
      "CREATE TABLE \"Foods\" (\n",
      "\tfood_id INTEGER NOT NULL, \n",
      "\tfood_name VARCHAR(90), \n",
      "\tPRIMARY KEY (food_id)\n",
      ")\n",
      "\n",
      "\n",
      "2021-12-19 18:16:24,110 INFO sqlalchemy.engine.Engine [no key 0.00265s] ()\n",
      "2021-12-19 18:16:24,252 INFO sqlalchemy.engine.Engine COMMIT\n"
     ]
    }
   ],
   "source": [
    "from main import Base,engine\n",
    "Base.metadata.create_all(engine)"
   ]
  },
  {
   "cell_type": "code",
   "execution_count": null,
   "id": "dfa081dc",
   "metadata": {},
   "outputs": [],
   "source": []
  },
  {
   "cell_type": "code",
   "execution_count": null,
   "id": "1eb0f35e",
   "metadata": {},
   "outputs": [],
   "source": []
  },
  {
   "cell_type": "code",
   "execution_count": null,
   "id": "a854fe50",
   "metadata": {},
   "outputs": [],
   "source": []
  }
 ],
 "metadata": {
  "kernelspec": {
   "display_name": "Python 3",
   "language": "python",
   "name": "python3"
  },
  "language_info": {
   "codemirror_mode": {
    "name": "ipython",
    "version": 3
   },
   "file_extension": ".py",
   "mimetype": "text/x-python",
   "name": "python",
   "nbconvert_exporter": "python",
   "pygments_lexer": "ipython3",
   "version": "3.8.8"
  }
 },
 "nbformat": 4,
 "nbformat_minor": 5
}
