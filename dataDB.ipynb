{
 "cells": [
  {
   "cell_type": "code",
   "execution_count": 1,
   "id": "4d5a4960",
   "metadata": {},
   "outputs": [],
   "source": [
    "from sqlalchemy import create_engine,Table, Column, Integer, String, MetaData\n",
    "import requests\n",
    "import pandas as pd\n",
    "from bs4 import BeautifulSoup\n",
    "headers={'User-Agent':'Mozilla/5.0 (Windows NT 10.0; Win64; x64) AppleWebKit/537.36 (KHTML, like Gecko) Chrome/95.0.4638.69 Safari/537.36'}"
   ]
  },
  {
   "cell_type": "code",
   "execution_count": 2,
   "id": "848664fc",
   "metadata": {},
   "outputs": [],
   "source": [
    "engine= create_engine('sqlite:///Swiggy.db',echo = False)\n",
    "meta = MetaData()"
   ]
  },
  {
   "cell_type": "code",
   "execution_count": 3,
   "id": "7e52d217",
   "metadata": {},
   "outputs": [],
   "source": [
    "from sqlalchemy import ForeignKey"
   ]
  },
  {
   "cell_type": "code",
   "execution_count": 3,
   "id": "9846b290",
   "metadata": {},
   "outputs": [],
   "source": [
    "Restaurant = Table(\n",
    "   'Restaurant', meta, \n",
    "   Column('Id', Integer, primary_key = True),\n",
    "   Column('name', String),\n",
    "   Column('Link',String), \n",
    "   Column('Speciality',String),\n",
    "   Column('Pure-Veg',String),\n",
    "   Column('CostFor2',Integer),\n",
    "   Column('Location',String), \n",
    "   Column('extracted',String),extend_existing=True\n",
    ")"
   ]
  },
  {
   "cell_type": "code",
   "execution_count": null,
   "id": "9572b244",
   "metadata": {},
   "outputs": [],
   "source": [
    "Menu = Table(\n",
    "   'Menu', meta,\n",
    "   Column('RestID', Integer,ForeignKey('Restaurant.Id'), nullable=False), \n",
    "   Column('Rest_name', String),\n",
    "   Column('Food_id',Integer), \n",
    "   Column('Food_name',String),\n",
    "   Column('Food_type',String), \n",
    "   Column('Price',Integer) \n",
    "#ForeignKeyConstraint(['invoice_id', 'ref_num'], ['invoice.invoice_id', 'invoice.ref_num'])\n",
    ")"
   ]
  },
  {
   "cell_type": "code",
   "execution_count": 15,
   "id": "b7dbe5a2",
   "metadata": {},
   "outputs": [
    {
     "data": {
      "text/plain": [
       "<sqlalchemy.engine.cursor.LegacyCursorResult at 0x1e32181db20>"
      ]
     },
     "execution_count": 15,
     "metadata": {},
     "output_type": "execute_result"
    }
   ],
   "source": [
    " engine.execute('ALTER TABLE %s ADD COLUMN %s %s' % (Menu, \"Food_type\", \"VARCHAR\"))"
   ]
  },
  {
   "cell_type": "code",
   "execution_count": 5,
   "id": "20858f6d",
   "metadata": {},
   "outputs": [],
   "source": [
    "meta.create_all(engine)"
   ]
  },
  {
   "cell_type": "code",
   "execution_count": 4,
   "id": "69b1d829",
   "metadata": {},
   "outputs": [],
   "source": [
    "from sqlalchemy.orm import sessionmaker"
   ]
  },
  {
   "cell_type": "code",
   "execution_count": 5,
   "id": "1523c6b2",
   "metadata": {},
   "outputs": [],
   "source": [
    "from sqlalchemy.ext.declarative import declarative_base"
   ]
  },
  {
   "cell_type": "code",
   "execution_count": 6,
   "id": "3e7c0269",
   "metadata": {},
   "outputs": [],
   "source": [
    "Session=sessionmaker(bind=engine)\n",
    "session=Session()"
   ]
  },
  {
   "cell_type": "code",
   "execution_count": null,
   "id": "c08d8dd0",
   "metadata": {},
   "outputs": [],
   "source": []
  },
  {
   "cell_type": "code",
   "execution_count": null,
   "id": "dedcb0bf",
   "metadata": {},
   "outputs": [],
   "source": []
  },
  {
   "cell_type": "code",
   "execution_count": null,
   "id": "1357f4e6",
   "metadata": {},
   "outputs": [],
   "source": []
  },
  {
   "cell_type": "code",
   "execution_count": 7,
   "id": "8551da5f",
   "metadata": {},
   "outputs": [],
   "source": [
    "def extractData(rest_id,url):\n",
    "    try:\n",
    "        query = url\n",
    "        page = requests.get(query, headers)\n",
    "        soup = BeautifulSoup(page.text, 'html.parser')\n",
    "\n",
    "        restuarant = soup.find('div', class_='_1637z')\n",
    "        rating=restuarant.find('div', class_='_2l3H5').text \n",
    "\n",
    "        string= restuarant.find_all('div', class_='_2l3H5')[2]\n",
    "        cost=string.find('span')\n",
    "        if cost!=None:\n",
    "            cos=cost.text[2:]\n",
    "        else:\n",
    "            cos=None\n",
    "        #costlist.append(cost)\n",
    "        #print(cost)\n",
    "        try:\n",
    "            if(restuarant.find('span', class_='_1KYwd').text=='Pure Veg'):\n",
    "                #print(\"Pure Veg\")\n",
    "                #restype.append(\"Pure Veg\")\n",
    "                pveg='Pure Veg'\n",
    "            else:\n",
    "                #restype.append(\"--\")\n",
    "                pveg='--'\n",
    "        except:\n",
    "            #print(\"--\")\n",
    "            restype.append(\"--\")\n",
    "        restName = restuarant.find('h1', class_='_3aqeL').text\n",
    "        #restuarantName.append(restName)\n",
    "        #rest_ids_hotels.append(rest_id)\n",
    "        speciality=restuarant.find('div', class_='_3Plw0 JMACF').text\n",
    "        speciality=speciality.map(lambda x: x.lstrip('+-Opens next at 123456789101112:0102030405607809101520253040455060 ampm, tomorrowtoday'))\n",
    "        #specialities.append(speciality)\n",
    "        location= restuarant.find('div', class_='Gf2NS _2Y6HW').text\n",
    "        #locations.append(location)\n",
    "        #links.append(url)\n",
    "        #print(rating)\n",
    "        #print(restName,  speciality, location)\n",
    "        rest= Restaurant(Id=no,name=restName,Link=url,Speciality=speciality,Pure_veg=pveg,CostFor2=cos,Location=location,extracted='yes')\n",
    "        session.add(rest)\n",
    "        li=session.query(Links).filter(Links.link==url)\n",
    "        Links.extracted='yes'\n",
    "        session.commit()\n",
    "        menu=soup.find_all('div',class_='_2wg_t')\n",
    "        for item in menu:\n",
    "            #print(item.prettify()) \n",
    "            vg=item.find('i')\n",
    "            #print(vg.get('class'))\n",
    "            if(vg.get('class')[2]=='icon-Veg'):\n",
    "                vnv='Veg'\n",
    "            elif(vg.get('class')[2]=='icon-NonVeg'):                \n",
    "                vnv='Non-Veg'\n",
    "\n",
    "            itemname=item.find('h3', class_='styles_itemNameText__3bcKX').text\n",
    "            \n",
    "            itemprice=item.find('span', class_='rupee').text\n",
    "            \n",
    "            men= Menu(RestID=no,Rest_name=restName,Food_name=itemname, Food_type=vnv,Price=itemprice)\n",
    "            session.add(men)\n",
    "        \n",
    "            \n",
    "    except:\n",
    "        print(\"page not found\")\n",
    "    "
   ]
  },
  {
   "cell_type": "code",
   "execution_count": 10,
   "id": "e9086e17",
   "metadata": {},
   "outputs": [
    {
     "ename": "NameError",
     "evalue": "name 'Links' is not defined",
     "output_type": "error",
     "traceback": [
      "\u001b[1;31m---------------------------------------------------------------------------\u001b[0m",
      "\u001b[1;31mNameError\u001b[0m                                 Traceback (most recent call last)",
      "\u001b[1;32m<ipython-input-10-5573144f3544>\u001b[0m in \u001b[0;36m<module>\u001b[1;34m\u001b[0m\n\u001b[1;32m----> 1\u001b[1;33m \u001b[0mlink\u001b[0m\u001b[1;33m=\u001b[0m\u001b[0msession\u001b[0m\u001b[1;33m.\u001b[0m\u001b[0mquery\u001b[0m\u001b[1;33m(\u001b[0m\u001b[0mLinks\u001b[0m\u001b[1;33m)\u001b[0m\u001b[1;33m.\u001b[0m\u001b[0mall\u001b[0m\u001b[1;33m(\u001b[0m\u001b[1;33m)\u001b[0m\u001b[1;33m\u001b[0m\u001b[1;33m\u001b[0m\u001b[0m\n\u001b[0m\u001b[0;32m      2\u001b[0m \u001b[0mr_id\u001b[0m\u001b[1;33m=\u001b[0m\u001b[1;36m1\u001b[0m\u001b[1;33m\u001b[0m\u001b[1;33m\u001b[0m\u001b[0m\n\u001b[0;32m      3\u001b[0m \u001b[1;32mfor\u001b[0m \u001b[0mli\u001b[0m \u001b[1;32min\u001b[0m \u001b[0mlink\u001b[0m\u001b[1;33m:\u001b[0m\u001b[1;33m\u001b[0m\u001b[1;33m\u001b[0m\u001b[0m\n\u001b[0;32m      4\u001b[0m     \u001b[1;32mif\u001b[0m \u001b[0mli\u001b[0m\u001b[1;33m[\u001b[0m\u001b[0mextarcted\u001b[0m\u001b[1;33m]\u001b[0m\u001b[1;33m==\u001b[0m\u001b[1;34m'no'\u001b[0m\u001b[1;33m:\u001b[0m\u001b[1;33m\u001b[0m\u001b[1;33m\u001b[0m\u001b[0m\n\u001b[0;32m      5\u001b[0m         \u001b[0mextractData\u001b[0m\u001b[1;33m(\u001b[0m\u001b[0mr_id\u001b[0m\u001b[1;33m,\u001b[0m\u001b[0mli\u001b[0m\u001b[1;33m.\u001b[0m\u001b[0mlink\u001b[0m \u001b[1;33m)\u001b[0m\u001b[1;33m\u001b[0m\u001b[1;33m\u001b[0m\u001b[0m\n",
      "\u001b[1;31mNameError\u001b[0m: name 'Links' is not defined"
     ]
    }
   ],
   "source": [
    "link=session.query(Links).all()\n",
    "r_id=1\n",
    "for li in link:\n",
    "    if li[extarcted]=='no':\n",
    "        extractData(r_id,li.link )\n",
    "        r_id+=1"
   ]
  },
  {
   "cell_type": "code",
   "execution_count": null,
   "id": "1b9198b1",
   "metadata": {},
   "outputs": [],
   "source": []
  }
 ],
 "metadata": {
  "kernelspec": {
   "display_name": "Python 3",
   "language": "python",
   "name": "python3"
  },
  "language_info": {
   "codemirror_mode": {
    "name": "ipython",
    "version": 3
   },
   "file_extension": ".py",
   "mimetype": "text/x-python",
   "name": "python",
   "nbconvert_exporter": "python",
   "pygments_lexer": "ipython3",
   "version": "3.8.8"
  }
 },
 "nbformat": 4,
 "nbformat_minor": 5
}
